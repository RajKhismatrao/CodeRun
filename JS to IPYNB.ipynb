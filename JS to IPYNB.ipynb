{
 "cells": [
  {
   "cell_type": "code",
   "execution_count": 1,
   "id": "80fb3ad1",
   "metadata": {},
   "outputs": [],
   "source": [
    "import ee\n",
    "import geemap\n",
    "import os"
   ]
  },
  {
   "cell_type": "code",
   "execution_count": 2,
   "id": "20dfed7f",
   "metadata": {},
   "outputs": [],
   "source": [
    "js_snippet = \"\"\"\n",
    "var dataset3 = ee.ImageCollection(\"COPERNICUS/S2_SR\").select(['B4', 'B8']);\n",
    "dataset3 = dataset3.filterBounds(AOI);\n",
    "dataset3 = dataset3.filter(ee.Filter.date(srch_start_date, date));\n",
    "dataset3 = dataset3.first()\n",
    "dataset3 = dataset3.clip(AOI);\n",
    "print(dataset3);\n",
    "var dataset_3 = dataset3.normalizedDifference(['B4', 'B8']).rename('NDVI');\n",
    "dataset3 = dataset3.addBands(dataset_3);\n",
    "var visualization = {\n",
    "  min: 0.0,\n",
    "  max: 1.0,\n",
    "  palette: [\n",
    "    'FFFFFF', 'CE7E45', 'DF923D', 'F1B555', 'FCD163', '99B718', '74A901',\n",
    "    '66A000', '529400', '3E8601', '207401', '056201', '004C00', '023B01',\n",
    "    '012E01', '011D01', '011301'\n",
    "  ],\n",
    "};\n",
    "\n",
    "Map.centerObject(AOI);\n",
    "Map.addLayer(dataset_3, visualization, 'NDVI');\n",
    "\n",
    "var out_bands = ['NDVI'];\n",
    "\n",
    "// OUTPUT: Create download URL for Curr Week Image\n",
    "var file_location = dataset3.getDownloadURL({\n",
    "  'name': 'VIS_NDVI',\n",
    "  'format': 'GEO_TIFF',\n",
    "  'region': AOI,\n",
    "  'scale': 10,\n",
    "  'bands': out_bands,\n",
    "  'filePerBand': 'false',\n",
    "  'crs': 'EPSG:4326'\n",
    "});\n",
    "\n",
    "print('Fire URL 3: ', file_location);\n",
    "\"\"\""
   ]
  },
  {
   "cell_type": "code",
   "execution_count": 3,
   "id": "efd87c2d",
   "metadata": {},
   "outputs": [],
   "source": [
    "geemap.js_snippet_to_py(js_snippet, add_new_cell=True, import_ee=True, import_geemap=True, show_map=True)"
   ]
  },
  {
   "cell_type": "code",
   "execution_count": null,
   "id": "959ea152",
   "metadata": {},
   "outputs": [],
   "source": [
    "import ee\n",
    "import geemap\n",
    "\n",
    "Map = geemap.Map()\n",
    "\n",
    "dataset3 = ee.ImageCollection(\"COPERNICUS/S2_SR\").select(['B4', 'B8'])\n",
    "dataset3 = dataset3.filterBounds(AOI)\n",
    "dataset3 = dataset3.filter(ee.Filter.date(srch_start_date, date))\n",
    "dataset3 = dataset3.first()\n",
    "dataset3 = dataset3.clip(AOI)\n",
    "print(dataset3)\n",
    "dataset_3 = dataset3.normalizedDifference(['B4', 'B8']).rename('NDVI')\n",
    "dataset3 = dataset3.addBands(dataset_3)\n",
    "visualization = {\n",
    "  'min': 0.0,\n",
    "  'max': 1.0,\n",
    "  'palette': [\n",
    "    'FFFFFF', 'CE7E45', 'DF923D', 'F1B555', 'FCD163', '99B718', '74A901',\n",
    "    '66A000', '529400', '3E8601', '207401', '056201', '004C00', '023B01',\n",
    "    '012E01', '011D01', '011301'\n",
    "  ],\n",
    "}\n",
    "\n",
    "Map.centerObject(AOI)\n",
    "Map.addLayer(dataset_3, visualization, 'NDVI')\n",
    "\n",
    "out_bands = ['NDVI']\n",
    "\n",
    "# OUTPUT: Create download URL for Curr Week Image\n",
    "file_location = dataset3.getDownloadURL({\n",
    "  'name': 'VIS_NDVI',\n",
    "  'format': 'GEO_TIFF',\n",
    "  'region': AOI,\n",
    "  'scale': 10,\n",
    "  'bands': out_bands,\n",
    "  'filePerBand': 'False',\n",
    "  'crs': 'EPSG:4326'\n",
    "})\n",
    "\n",
    "print('Fire URL 3: ', file_location)\n",
    "Map\n"
   ]
  },
  {
   "cell_type": "code",
   "execution_count": null,
   "id": "90e31825",
   "metadata": {},
   "outputs": [],
   "source": []
  }
 ],
 "metadata": {
  "kernelspec": {
   "display_name": "Python 3",
   "language": "python",
   "name": "python3"
  },
  "language_info": {
   "codemirror_mode": {
    "name": "ipython",
    "version": 3
   },
   "file_extension": ".py",
   "mimetype": "text/x-python",
   "name": "python",
   "nbconvert_exporter": "python",
   "pygments_lexer": "ipython3",
   "version": "3.9.5"
  }
 },
 "nbformat": 4,
 "nbformat_minor": 5
}
